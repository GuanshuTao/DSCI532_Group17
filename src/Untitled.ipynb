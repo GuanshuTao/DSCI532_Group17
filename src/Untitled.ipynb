{
 "cells": [
  {
   "cell_type": "code",
   "execution_count": 28,
   "id": "flush-mayor",
   "metadata": {},
   "outputs": [],
   "source": [
    "import altair as alt\n",
    "from data_manager import DataManager\n",
    "import pandas as pd"
   ]
  },
  {
   "cell_type": "code",
   "execution_count": 12,
   "id": "formed-tracy",
   "metadata": {},
   "outputs": [
    {
     "name": "stdout",
     "output_type": "stream",
     "text": [
      "0        110500000\n",
      "1         77000000\n",
      "2        118500000\n",
      "3         72000000\n",
      "4        102000000\n",
      "           ...    \n",
      "18202        60000\n",
      "18203        60000\n",
      "18204        60000\n",
      "18205        60000\n",
      "18206        60000\n",
      "Name: Value, Length: 18207, dtype: int64\n"
     ]
    },
    {
     "data": {
      "text/plain": [
       "DataTransformerRegistry.enable('default')"
      ]
     },
     "execution_count": 12,
     "metadata": {},
     "output_type": "execute_result"
    }
   ],
   "source": [
    "data = DataManager().get_data()\n",
    "alt.data_transformers.disable_max_rows()"
   ]
  },
  {
   "cell_type": "code",
   "execution_count": 43,
   "id": "absolute-complex",
   "metadata": {},
   "outputs": [],
   "source": [
    "df = data.groupby('Nationality').sum()['Value'].sort_values(ascending=False)[:10].reset_index()\n",
    "\n",
    "chart = alt.Chart(df).mark_bar().encode(\n",
    "        x = alt.X('Nationality', sort='-y'),\n",
    "        y = alt.Y('Value', title='Player Value')\n",
    ")"
   ]
  },
  {
   "cell_type": "code",
   "execution_count": 44,
   "id": "federal-aurora",
   "metadata": {},
   "outputs": [
    {
     "data": {
      "text/html": [
       "\n",
       "<div id=\"altair-viz-3c0a24f0d0194e578da4abbeb178b5ea\"></div>\n",
       "<script type=\"text/javascript\">\n",
       "  (function(spec, embedOpt){\n",
       "    let outputDiv = document.currentScript.previousElementSibling;\n",
       "    if (outputDiv.id !== \"altair-viz-3c0a24f0d0194e578da4abbeb178b5ea\") {\n",
       "      outputDiv = document.getElementById(\"altair-viz-3c0a24f0d0194e578da4abbeb178b5ea\");\n",
       "    }\n",
       "    const paths = {\n",
       "      \"vega\": \"https://cdn.jsdelivr.net/npm//vega@5?noext\",\n",
       "      \"vega-lib\": \"https://cdn.jsdelivr.net/npm//vega-lib?noext\",\n",
       "      \"vega-lite\": \"https://cdn.jsdelivr.net/npm//vega-lite@4.8.1?noext\",\n",
       "      \"vega-embed\": \"https://cdn.jsdelivr.net/npm//vega-embed@6?noext\",\n",
       "    };\n",
       "\n",
       "    function loadScript(lib) {\n",
       "      return new Promise(function(resolve, reject) {\n",
       "        var s = document.createElement('script');\n",
       "        s.src = paths[lib];\n",
       "        s.async = true;\n",
       "        s.onload = () => resolve(paths[lib]);\n",
       "        s.onerror = () => reject(`Error loading script: ${paths[lib]}`);\n",
       "        document.getElementsByTagName(\"head\")[0].appendChild(s);\n",
       "      });\n",
       "    }\n",
       "\n",
       "    function showError(err) {\n",
       "      outputDiv.innerHTML = `<div class=\"error\" style=\"color:red;\">${err}</div>`;\n",
       "      throw err;\n",
       "    }\n",
       "\n",
       "    function displayChart(vegaEmbed) {\n",
       "      vegaEmbed(outputDiv, spec, embedOpt)\n",
       "        .catch(err => showError(`Javascript Error: ${err.message}<br>This usually means there's a typo in your chart specification. See the javascript console for the full traceback.`));\n",
       "    }\n",
       "\n",
       "    if(typeof define === \"function\" && define.amd) {\n",
       "      requirejs.config({paths});\n",
       "      require([\"vega-embed\"], displayChart, err => showError(`Error loading script: ${err.message}`));\n",
       "    } else if (typeof vegaEmbed === \"function\") {\n",
       "      displayChart(vegaEmbed);\n",
       "    } else {\n",
       "      loadScript(\"vega\")\n",
       "        .then(() => loadScript(\"vega-lite\"))\n",
       "        .then(() => loadScript(\"vega-embed\"))\n",
       "        .catch(showError)\n",
       "        .then(() => displayChart(vegaEmbed));\n",
       "    }\n",
       "  })({\"config\": {\"view\": {\"continuousWidth\": 400, \"continuousHeight\": 300}}, \"data\": {\"name\": \"data-d61a04b8a38c759c778102aef6f9b844\"}, \"mark\": \"bar\", \"encoding\": {\"x\": {\"type\": \"nominal\", \"field\": \"Nationality\", \"sort\": \"-y\"}, \"y\": {\"type\": \"quantitative\", \"field\": \"Value\", \"title\": \"Player Value\"}}, \"$schema\": \"https://vega.github.io/schema/vega-lite/v4.8.1.json\", \"datasets\": {\"data-d61a04b8a38c759c778102aef6f9b844\": [{\"Nationality\": \"Spain\", \"Value\": 4706849997}, {\"Nationality\": \"Brazil\", \"Value\": 3806374994}, {\"Nationality\": \"France\", \"Value\": 3363354997}, {\"Nationality\": \"Germany\", \"Value\": 3030109999}, {\"Nationality\": \"Argentina\", \"Value\": 2883159997}, {\"Nationality\": \"England\", \"Value\": 2490914996}, {\"Nationality\": \"Italy\", \"Value\": 2139395000}, {\"Nationality\": \"Portugal\", \"Value\": 1630500000}, {\"Nationality\": \"Netherlands\", \"Value\": 1300180000}, {\"Nationality\": \"Belgium\", \"Value\": 1221915000}]}}, {\"mode\": \"vega-lite\"});\n",
       "</script>"
      ],
      "text/plain": [
       "alt.Chart(...)"
      ]
     },
     "execution_count": 44,
     "metadata": {},
     "output_type": "execute_result"
    }
   ],
   "source": [
    "chart"
   ]
  },
  {
   "cell_type": "code",
   "execution_count": null,
   "id": "changed-uganda",
   "metadata": {},
   "outputs": [],
   "source": []
  }
 ],
 "metadata": {
  "kernelspec": {
   "display_name": "Python 3",
   "language": "python",
   "name": "python3"
  },
  "language_info": {
   "codemirror_mode": {
    "name": "ipython",
    "version": 3
   },
   "file_extension": ".py",
   "mimetype": "text/x-python",
   "name": "python",
   "nbconvert_exporter": "python",
   "pygments_lexer": "ipython3",
   "version": "3.8.5"
  }
 },
 "nbformat": 4,
 "nbformat_minor": 5
}
